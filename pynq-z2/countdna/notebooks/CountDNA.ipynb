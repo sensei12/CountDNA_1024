{
 "cells": [
  {
   "cell_type": "markdown",
   "metadata": {},
   "source": [
    "# Count DNA Nucleotides accelerator\n",
    "Count the frequency of adenine (A), cytosine(C), guanine(G) and thymine(T) nucleotides in the DNA reference string of length 1024 using (1) software and (2) hardware implementation and compare their timing performance\n"
   ]
  },
  {
   "cell_type": "markdown",
   "metadata": {},
   "source": [
    "## **Count DNA using software implementation"
   ]
  },
  {
   "cell_type": "markdown",
   "metadata": {},
   "source": [
    "#### Load DNA reference string"
   ]
  },
  {
   "cell_type": "code",
   "execution_count": 1,
   "metadata": {
    "scrolled": true
   },
   "outputs": [],
   "source": [
    "fname=\"dnaref1024.txt\"\n",
    "f = open(fname, 'r')\n",
    "dnaref = f.readline().strip()"
   ]
  },
  {
   "cell_type": "markdown",
   "metadata": {},
   "source": [
    "#### Copy DNA string to numpy array"
   ]
  },
  {
   "cell_type": "code",
   "execution_count": 2,
   "metadata": {},
   "outputs": [],
   "source": [
    "import numpy as np\n",
    "dna=np.fromstring(dnaref, dtype=np.uint8)\n",
    "n=len(dna)"
   ]
  },
  {
   "cell_type": "markdown",
   "metadata": {},
   "source": [
    "#### Verify DNA string length"
   ]
  },
  {
   "cell_type": "code",
   "execution_count": 3,
   "metadata": {},
   "outputs": [
    {
     "name": "stdout",
     "output_type": "stream",
     "text": [
      "1024\n"
     ]
    }
   ],
   "source": [
    "print(n)"
   ]
  },
  {
   "cell_type": "markdown",
   "metadata": {},
   "source": [
    "#### Get the frequency count of A,C,G,T nucleotides"
   ]
  },
  {
   "cell_type": "code",
   "execution_count": 4,
   "metadata": {},
   "outputs": [
    {
     "name": "stdout",
     "output_type": "stream",
     "text": [
      "Software FIR execution time:  0.08093810081481934\n",
      "Frequency of A = 258\n",
      "Frequency of C = 264\n",
      "Frequency of G = 237\n",
      "Frequency of T = 265\n",
      "Total count = 1,024\n"
     ]
    }
   ],
   "source": [
    "import time\n",
    "start_time = time.time()\n",
    "sw_a = 0\n",
    "sw_c = 0\n",
    "sw_g = 0\n",
    "sw_t = 0\n",
    "for i in dna:\n",
    "    if i == 65:\n",
    "        sw_a +=1\n",
    "    elif i == 67:\n",
    "        sw_c +=1\n",
    "    elif i==71:\n",
    "        sw_g +=1\n",
    "    elif i == 84:\n",
    "        sw_t +=1\n",
    "stop_time = time.time()\n",
    "sw_exec_time = stop_time - start_time\n",
    "print('Software FIR execution time: ',sw_exec_time)\n",
    "print(\"Frequency of A = {:,}\".format(sw_a))\n",
    "print(\"Frequency of C = {:,}\".format(sw_c))\n",
    "print(\"Frequency of G = {:,}\".format(sw_g))\n",
    "print(\"Frequency of T = {:,}\".format(sw_t))\n",
    "print(\"Total count = {:,}\".format(sw_a+sw_c+sw_g+sw_t))"
   ]
  },
  {
   "cell_type": "markdown",
   "metadata": {},
   "source": [
    "## **Hardware count DNA implementation"
   ]
  },
  {
   "cell_type": "code",
   "execution_count": 5,
   "metadata": {},
   "outputs": [
    {
     "data": {
      "application/javascript": [
       "\n",
       "require(['notebook/js/codecell'], function(codecell) {\n",
       "  codecell.CodeCell.options_default.highlight_modes[\n",
       "      'magic_text/x-csrc'] = {'reg':[/^%%microblaze/]};\n",
       "  Jupyter.notebook.events.one('kernel_ready.Kernel', function(){\n",
       "      Jupyter.notebook.get_cells().map(function(cell){\n",
       "          if (cell.cell_type == 'code'){ cell.auto_highlight(); } }) ;\n",
       "  });\n",
       "});\n"
      ]
     },
     "metadata": {},
     "output_type": "display_data"
    }
   ],
   "source": [
    "from pynq import Overlay\n",
    "import pynq.lib.dma\n",
    "\n",
    "# Load the overlay\n",
    "overlay = Overlay('/home/xilinx/pynq/overlays/countdna/countdna.bit')"
   ]
  },
  {
   "cell_type": "code",
   "execution_count": 6,
   "metadata": {},
   "outputs": [],
   "source": [
    "# Load the IP\n",
    "dma = overlay.counting.dma\n",
    "cnt=overlay.counting.countdna"
   ]
  },
  {
   "cell_type": "code",
   "execution_count": 7,
   "metadata": {},
   "outputs": [
    {
     "name": "stdout",
     "output_type": "stream",
     "text": [
      "0\n",
      "0\n",
      "0\n",
      "0\n"
     ]
    }
   ],
   "source": [
    "# check initial value\n",
    "print(cnt.read(0x10)) # frequency count of A\n",
    "print(cnt.read(0x18)) # frequency count of C\n",
    "print(cnt.read(0x20)) # frequency count of G\n",
    "print(cnt.read(0x28)) # frequency count of T\n"
   ]
  },
  {
   "cell_type": "code",
   "execution_count": 8,
   "metadata": {},
   "outputs": [
    {
     "data": {
      "text/plain": [
       "{'Buffer Count': 1,\n",
       " 'CMA Memory Available': 133910528,\n",
       " 'CMA Memory Usage': 1024}"
      ]
     },
     "execution_count": 8,
     "metadata": {},
     "output_type": "execute_result"
    }
   ],
   "source": [
    "from pynq import Xlnk\n",
    "import numpy as np\n",
    "\n",
    "# Allocate contiguious buffer for DMA transfer\n",
    "xlnk = Xlnk()\n",
    "in_buffer = xlnk.cma_array(shape=(n,), dtype=np.uint8)\n",
    "\n",
    "# check buffer status\n",
    "xlnk.cma_stats() "
   ]
  },
  {
   "cell_type": "code",
   "execution_count": 9,
   "metadata": {},
   "outputs": [
    {
     "name": "stdout",
     "output_type": "stream",
     "text": [
      "Hardware FIR execution time:  0.0022177696228027344\n",
      "Hardware acceleration factor:  36.49526983444421\n",
      "Frequency of A = 258\n",
      "Frequency of C = 264\n",
      "Frequency of G = 237\n",
      "Frequency of T = 265\n",
      "Total count = 1,024\n"
     ]
    }
   ],
   "source": [
    "# Copy the DNA string to the in_buffer\n",
    "np.copyto(in_buffer,dna)\n",
    "\n",
    "# Trigger the DMA transfer and wait for the result\n",
    "import time\n",
    "start_time = time.time()\n",
    "dma.sendchannel.start()\n",
    "dma.sendchannel.transfer(in_buffer)\n",
    "cnt.write(0x00,0x01)\n",
    "dma.sendchannel.wait()\n",
    "cnt.write(0x00,0)\n",
    "stop_time = time.time()\n",
    "hw_exec_time = stop_time-start_time\n",
    "print('Hardware FIR execution time: ',hw_exec_time)\n",
    "print('Hardware acceleration factor: ',sw_exec_time / hw_exec_time)\n",
    "print(\"Frequency of A = {:,}\".format(cnt.read(0x10)))\n",
    "print(\"Frequency of C = {:,}\".format(cnt.read(0x18)))\n",
    "print(\"Frequency of G = {:,}\".format(cnt.read(0x20)))\n",
    "print(\"Frequency of T = {:,}\".format(cnt.read(0x28)))\n",
    "print(\"Total count = {:,}\".format(cnt.read(0x10)+cnt.read(0x18)+cnt.read(0x20)+cnt.read(0x28)))\n"
   ]
  },
  {
   "cell_type": "code",
   "execution_count": 10,
   "metadata": {},
   "outputs": [
    {
     "data": {
      "text/plain": [
       "{'Buffer Count': 0, 'CMA Memory Available': 133910528, 'CMA Memory Usage': 0}"
      ]
     },
     "execution_count": 10,
     "metadata": {},
     "output_type": "execute_result"
    }
   ],
   "source": [
    "# free up buffer\n",
    "in_buffer.freebuffer()\n",
    "xlnk.xlnk_reset()\n",
    "xlnk.cma_stats()"
   ]
  },
  {
   "cell_type": "markdown",
   "metadata": {},
   "source": [
    "## Driver for CountDNA accelerator\n",
    "\n",
    "To hide the details of the DMA from the programmer, and make the accelerator easier to use, we create a driver for it. Below is the driver that will be associated with the counting hierarchy created in Vivado, consisting of the CountDNA IP and the DMA.\n"
   ]
  },
  {
   "cell_type": "code",
   "execution_count": 11,
   "metadata": {},
   "outputs": [],
   "source": [
    "from pynq import DefaultHierarchy\n",
    "\n",
    "class CountDriver(DefaultHierarchy):\n",
    "    def __init__(self, description):\n",
    "        super().__init__(description)\n",
    "\n",
    "    def count(self, data):\n",
    "        with xlnk.cma_array(shape=(len(data),), dtype=np.uint8) as in_buffer:\n",
    "            np.copyto(in_buffer,data)\n",
    "            self.dma.sendchannel.start()\n",
    "            self.dma.sendchannel.transfer(in_buffer)\n",
    "            self.countdna.write(0x00,0x01)\n",
    "            self.dma.sendchannel.wait()\n",
    "            self.countdna.write(0x00,0)\n",
    "            resultA = self.countdna.read(0x10)\n",
    "            resultC = self.countdna.read(0x18)\n",
    "            resultG = self.countdna.read(0x20)\n",
    "            resultT = self.countdna.read(0x28)\n",
    "            in_buffer.freebuffer()\n",
    "            xlnk.xlnk_reset()\n",
    "        return resultA, resultC, resultG, resultT\n",
    "\n",
    "    \n",
    "    @staticmethod\n",
    "    def checkhierarchy(description):\n",
    "        if 'countdna' in description['ip']\\\n",
    "           and 'dma' in description['ip']:\n",
    "            return True\n",
    "        return False"
   ]
  },
  {
   "cell_type": "code",
   "execution_count": 12,
   "metadata": {},
   "outputs": [
    {
     "name": "stdout",
     "output_type": "stream",
     "text": [
      "Hardware FIR execution time (with driver):  0.010500669479370117\n",
      "Hardware acceleration factor:  36.49526983444421\n",
      "Frequency of A = 258\n",
      "Frequency of C = 264\n",
      "Frequency of G = 237\n",
      "Frequency of T = 265\n",
      "Total count = 1,024\n"
     ]
    }
   ],
   "source": [
    "from pynq import Overlay\n",
    "import pynq.lib.dma\n",
    "\n",
    "overlay = Overlay('/home/xilinx/pynq/overlays/countdna/countdna.bit')\n",
    "\n",
    "# Run the hardware solution using driver and measure the runtime\n",
    "start_time = time.time()\n",
    "resA, resC, resG, resT = overlay.counting.count(dna)\n",
    "\n",
    "stop_time = time.time()\n",
    "print('Hardware FIR execution time (with driver): ',stop_time-start_time)\n",
    "print('Hardware acceleration factor: ',sw_exec_time / hw_exec_time)\n",
    "print(\"Frequency of A = {:,}\".format(resA))\n",
    "print(\"Frequency of C = {:,}\".format(resC))\n",
    "print(\"Frequency of G = {:,}\".format(resG))\n",
    "print(\"Frequency of T = {:,}\".format(resT))\n",
    "print(\"Total count = {:,}\".format(resA+resC+resG+resT))\n"
   ]
  },
  {
   "cell_type": "code",
   "execution_count": 13,
   "metadata": {},
   "outputs": [
    {
     "data": {
      "text/markdown": [
       "### Result shows that hardware implementation is 36.50x faster than software implementation"
      ],
      "text/plain": [
       "<IPython.core.display.Markdown object>"
      ]
     },
     "execution_count": 13,
     "metadata": {},
     "output_type": "execute_result"
    }
   ],
   "source": [
    "from IPython.display import Markdown as md\n",
    "k = sw_exec_time / hw_exec_time\n",
    "md(\"### Result shows that hardware implementation is {:.2f}x faster than software implementation\".format(k))"
   ]
  }
 ],
 "metadata": {
  "kernelspec": {
   "display_name": "Python 3",
   "language": "python",
   "name": "python3"
  },
  "language_info": {
   "codemirror_mode": {
    "name": "ipython",
    "version": 3
   },
   "file_extension": ".py",
   "mimetype": "text/x-python",
   "name": "python",
   "nbconvert_exporter": "python",
   "pygments_lexer": "ipython3",
   "version": "3.6.5"
  }
 },
 "nbformat": 4,
 "nbformat_minor": 2
}
